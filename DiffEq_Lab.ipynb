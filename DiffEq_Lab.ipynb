{
 "cells": [
  {
   "cell_type": "markdown",
   "id": "metropolitan-cabinet",
   "metadata": {},
   "source": [
    "# Differential Equations Lab: The SIR Epidemic Model\n",
    "\n",
    "\n",
    "## Today's Lab\n",
    "\n",
    "#### In today's lab, you'll learn:\n",
    "\n",
    "1. What differential equations are, including:\n",
    " - the differences between independent variables, dependent variables and derivatives in a differential equation\n",
    " - assumptions made modeling with differential equations  \n",
    " (From MAA website)  \n",
    "2. To develop the SIR Model for the spread of an infectious disease, including the concepts of contact number and herd immunity;\n",
    "3. To develop a version of Euler's Method for solving a system of differential equations  \n",
    " Pre-reqs:  \n",
    " The concept of derivative and the Chain Rule;  \n",
    " The concept of autonomous first-order differential equation;  \n",
    " At least surface understanding of Euler's method as a tool for generating an approximate numerical or graphical solution of a first-order equation;  \n",
    "Some experience with the selected CAS.\n",
    "\n",
    "Be aware that there are many different models that are used in mathematical epidemiology today (e.g. SI, SIS, SIR, SIRS, SEIR, SEAIR, SEIRD, and SIR with vital dynamics, along with others) and that this lab will focus specifically on the SIR model.\n",
    "\n",
    "\n",
    "This lab covers the SIR definition of the MAA website located here:   \n",
    "https://www.maa.org/press/periodicals/loci/joma/the-sir-model-for-spread-of-disease-introduction  \n",
    "You should check out the MAA website, but not right now. Instead, let's get started!  "
   ]
  },
  {
   "cell_type": "markdown",
   "id": "continent-daisy",
   "metadata": {},
   "source": [
    "#### Background\n",
    "\n",
    "A mathematical description of the spread of a disease in a population is the SIR model, which divides a fixed population of $N$ individuals into three \"compartments\" which may vary as a function of time, $t$:  \n",
    "\n",
    "$S(t)$ are those susceptible but not yet infected with the disease;  \n",
    "$I(t)$ is the number of infectious individuals;  \n",
    "$R(t)$ are those individuals who have recovered from the disease and now have immunity to it.  \n",
    "\n",
    "The fraction of susceptible, infectious and recovered people in the population is:   \n",
    "$s(t) = \\frac{S(t)}{N}$  \n",
    "$i(t) = \\frac{I(t)}{N}$  \n",
    "$r(t) = \\frac{R(t)}{N}$  \n",
    "\n",
    "The SIR model describes the change in the population of each of these compartments in terms of two parameters, $\\beta$ and $\\gamma$, which are both positive constants. $\\beta$ describes the effective contact rate of the disease: an infected individual comes into contact with $\\beta N$ other individuals per unit time (of which the fraction that are susceptible to contracting the disease is $S/N$). $\\gamma$ is the mean recovery rate: that is, $1 / \\gamma$ is the mean period of time during which an infected individual can pass it on.\n",
    "\n",
    "<img src=\"SIR.png\"/>  \n",
    "\n",
    "The following assumptions apply to the SIR model:  \n",
    "\n",
    "No one is added to the susceptible group, since we are ignoring births and immigration. The only way an individual leaves the susceptible group is by becoming infected. We assume that the time-rate of change of  $S(t)$,  the number of susceptibles, depends on the number already susceptible, the number of individuals already infected, and the amount of contact between susceptibles and infecteds. In particular, suppose that each infected individual has a fixed number  $\\beta$  of contacts per day that are sufficient to spread the disease. Not all these contacts are with susceptible individuals. If we assume a homogeneous mixing of the population, the fraction of these contacts that are with susceptibles is  $s(t)$.  Thus, on average, each infected individual generates  $ \\beta s(t)$  new infected individuals per day. [With a large susceptible population and a relatively small infected population, we can ignore tricky counting situations such as a single susceptible encountering more than one infected in a given day.]\n",
    "\n",
    "We also assume that a fixed fraction  $\\gamma$  of the infected group will recover during any given day. This model considers deaths due to an epidemic as part of the \"recovered\" group. A \"recovered\" person can still feel miserable, and might even die later from the epidemic or complications.\n",
    "\n",
    "From these assumptions, we get the following equations\n",
    "\n",
    "$ \\frac{dS}{dt}=- \\beta SI, $  \n",
    "$ \\frac{dI}{dt}=\\beta SI -\\gamma I, $  \n",
    "$ \\frac{dR}{dt}=\\gamma I $  \n",
    "\n",
    "[//]: # (Should the above equations be divided by the population N? Probably not, gonna change that)\n",
    "\n",
    "The change in the susceptible, infected, and recovered fractions of the population is given by the following equations\n",
    "\n",
    "$ \\frac{ds}{dt}=- \\beta s(t) i(t), $  \n",
    "$ \\frac{di}{dt}=\\beta s(t) i(t) - \\gamma i(t), $  \n",
    "$ \\frac{dr}{dt}= \\gamma i(t) $  "
   ]
  },
  {
   "cell_type": "markdown",
   "id": "ceramic-patrick",
   "metadata": {},
   "source": [
    "#### Below is a graph of an SIR model, feel free to play around with the parameters."
   ]
  },
  {
   "cell_type": "code",
   "execution_count": 4,
   "id": "municipal-lecture",
   "metadata": {},
   "outputs": [
    {
     "data": {
      "image/png": "[encoded data removed]",
      "text/plain": [
       "<Figure size 432x288 with 1 Axes>"
      ]
     },
     "metadata": {},
     "output_type": "display_data"
    }
   ],
   "source": [
    "import numpy as np\n",
    "from scipy.integrate import odeint\n",
    "import matplotlib.pyplot as plt\n",
    "\n",
    "# Total population, N.\n",
    "N = 1000\n",
    "# Initial number of infected and recovered individuals, I0 and R0.\n",
    "I0, R0 = 1, 0\n",
    "# Everyone else, S0, is susceptible to infection initially.\n",
    "S0 = N - I0 - R0\n",
    "# Contact rate, beta, and mean recovery rate, gamma, (in 1/days).\n",
    "beta, gamma = 3/5, 1/3\n",
    "# A grid of time points (in days)\n",
    "t = np.linspace(0, 100, 100)\n",
    "\n",
    "# The SIR model differential equations.\n",
    "def deriv(y, t, N, beta, gamma):\n",
    "    S, I, R = y\n",
    "    dSdt = -beta * S * I / N\n",
    "    dIdt = beta * S * I / N - gamma * I\n",
    "    dRdt = gamma * I\n",
    "    return dSdt, dIdt, dRdt\n",
    "\n",
    "# Initial conditions vector\n",
    "y0 = S0, I0, R0\n",
    "# Integrate the SIR equations over the time grid, t.\n",
    "ret = odeint(deriv, y0, t, args=(N, beta, gamma))\n",
    "S, I, R = ret.T\n",
    "\n",
    "# Plot the data on three separate curves for S(t), I(t) and R(t)\n",
    "fig = plt.figure(facecolor='w')\n",
    "ax = fig.add_subplot(111, facecolor='#dddddd', axisbelow=True)\n",
    "ax.plot(t, S/N, 'b', alpha=0.5, lw=2, label='Susceptible')\n",
    "ax.plot(t, I/N, 'r', alpha=0.5, lw=2, label='Infected')\n",
    "ax.plot(t, R/N, 'g', alpha=0.5, lw=2, label='Recovered with immunity')\n",
    "ax.set_xlabel('Time /days')\n",
    "ax.set_ylabel('Number (% of population)')\n",
    "ax.set_ylim(0,1)\n",
    "ax.yaxis.set_tick_params(length=0)\n",
    "ax.xaxis.set_tick_params(length=0)\n",
    "ax.grid(b=True, which='major', c='w', lw=2, ls='-')\n",
    "legend = ax.legend()\n",
    "legend.get_frame().set_alpha(0.5)\n",
    "for spine in ('top', 'right', 'bottom', 'left'):\n",
    "    ax.spines[spine].set_visible(False)\n",
    "plt.show()\n",
    "\n",
    "#Credit to this website for this model: https://scipython.com/book/chapter-8-scipy/additional-examples/the-sir-epidemic-model/"
   ]
  },
  {
   "cell_type": "markdown",
   "id": "altered-seller",
   "metadata": {},
   "source": [
    "#### Contact Number\n",
    "\n",
    "We assumed that the parameters  $\\beta$  and  $\\gamma$  could be estimated somehow, and therefore it would be possible to generate numerical solutions of the differential equations. In fact, as we have seen, the fraction  $\\gamma$  of infecteds recovering in a given day can be estimated from observation of infected individuals. Specifically,  $\\gamma$  is roughly the reciprocal of the number of days an individual is sick enough to infect others. For many contagious diseases, the infectious time is approximately the same for most infecteds and is known by observation.\n",
    "\n",
    "There is no direct way to observe  $\\beta$,  but there is an indirect way. Consider the ratio of  $\\beta$  to  $\\gamma$:\n",
    "\n",
    "$\\frac{\\beta}{\\gamma} = \\beta \\frac{1}{\\gamma} =$ the number of close contacts per day per infected times the number of days infected = the number of close contacts per infected individual.\n",
    "\n",
    "We call this the contact number, $c$, where $c = \\frac{\\beta}{\\gamma}$\n",
    "\n",
    "From our previous equations, we have:  \n",
    "$ \\frac{ds}{dt}=- \\beta s(t) i(t), $  \n",
    "$ \\frac{di}{dt}=\\beta s(t) i(t) - \\gamma i(t), $  \n",
    "\n",
    "Dividing the second equation by the first, we have:  \n",
    "$\\frac{di}{ds}=\\ -1+\\frac{c}{s}$  \n",
    "(Explain how we arrived at this step using the chain rule)\n",
    "\n",
    "Important conclusions about this equation:  \n",
    "- The only parameter that appears is  $c$,  the one we are trying to determine.  \n",
    "- The equation is independent of time. That is, whatever we learn about the relationship between  $i$  and  $s$  must be true for the entire duration of the epidemic.  \n",
    "- The right-hand side is an explicit function of  $s$,  which is now the independent variable.  \n",
    "\n",
    "Show that $i(s)$ must have the form:  \n",
    "\n",
    "$i = -s + \\frac{1}{c}ln(s) + q,$ where $q$ is a constant.\n",
    "\n",
    "And explain why $i + s - \\frac{1}{c}ln(s)$ must be independent of time.\n",
    "\n",
    "There are two times when we know (or can estimate) the values of  $i$   and  $s$: at $t = 0$  and  $t = \\infty$.  For our considerations,  $i(0)$  is approximately  $0$  and  $s(0)$  is approximately  $1$.  A long time after the onset of the epidemic, we have  $i(\\infty)$  approximately  $0$   again, and  $s(\\infty)$  has settled to its steady state value. If there has been good reporting of the numbers who have contracted the disease, then the steady state is observable as the fraction of the population that did not get the disease.\n",
    "\n",
    "For such an epidemic, explain why\n",
    "\n",
    "$c=\\frac{\\ln\\left(s_{\\infty}\\right)}{s_{\\infty}-1}$\n",
    "\n",
    "[Hint: Use the fact that the quantity $ i + s - \\frac{1}{c}ln(s) $ is the same at  $t = 0$  and at  $t = \\infty$.]\n",
    "Use one of your numerical solutions to estimate the value of  $s(\\infty)$. Compare your calculated value with the one you get by direct calculation from the definition,  $c = \\frac{\\beta}{\\gamma}$."
   ]
  },
  {
   "cell_type": "markdown",
   "id": "organized-slovak",
   "metadata": {},
   "source": [
    "#### Herd Immunity\n",
    "\n",
    "Each strain of flu is a disease that confers future immunity on its sufferers. For such a disease, if almost everyone has had it, then those who have not had it are protected from getting it -- there are not enough susceptibles left in the population to allow an epidemic to get under way. This group protection is called herd immunity.  \n",
    "\n",
    "Earlier you experimented with the relative sizes of  $\\beta$  and  $\\gamma$,  and you found that, if  $\\beta$  is small enough relative to  $\\gamma$,  then  no epidemic can develop. If the contact number  $c = \\frac{\\beta}{\\gamma}$  is small enough, then there will be no epidemic. But another way to prevent an epidemic is to reduce the initial susceptible population artificially by inoculation.  \n",
    "\n",
    "So, what fraction of the population must be inoculated to obtain herd immunity? Or, put another way, how small must  $s_0$  be to insure that an epidemic cannot get started? It depends on the contact number.\n",
    "\n",
    "Explain why keeping an epidemic from getting started is the same as keeping  $\\frac{di}{dt}$  negative from  $t = 0$   on.  \n",
    "Write the right-hand side of the infected-fraction differential equation:  \n",
    "\n",
    "$\\frac{di}{dt}=\\beta s\\left(t\\right)i\\left(t\\right)- \\gamma i\\left(t\\right)  $\n",
    "\n",
    "in factored form. Explain why one factor is always positive and why the sign of other factor depends on the size of  $s(t)$.\n",
    "Explain why  $s(t)$  is a decreasing function, and thus has its largest value at  $t = 0$. It follows that, if $\\frac{di}{dt}$ is negative at time  $0$,   then it stays negative.\n",
    "Show that\n",
    "\n",
    "$i'\\left(0\\right)=\\left(\\beta s_{0}-\\gamma\\right)i_{0}$\n",
    "\n",
    "Explain why, if  $s_0$  is less than  $1/c$,   then no epidemic can develop.  \n",
    "\n",
    "\n",
    "From 1912 to 1928, the contact number for measles in the U.S. was 12.8. If we assume that  $c$  is still 12.8 and that inoculation is 100% effective -- everyone inoculated obtains immunity from the disease -- what fraction of the population must be inoculated to prevent an epidemic?  \n",
    "\n",
    "$s_0 < 1/12.8$, so at least 92.1875% of the population should be vaccinated.\n",
    "\n",
    "Suppose the vaccine is only 95% effective. What fraction of the population would have to be inoculated to prevent a measles epidemic?\n",
    "\n",
    "$s_0 < 1/12.8$ and 1/20 of $s_0$ is vaccinated but does not receive immunity. Similar calculation, but I think you have to multiply the total amount of people needed to be vaccinated by 21/20 to compensate? (I'm going off of the idea that if a vaccine had 50% efficacy then you would need to vaccinate twice as many people to have an equivalent immunization as a 100% effective vaccine.) The number I got was 96.796875%\n",
    "\n",
    "[//]: # (let me know if the above problem was solved right, thanks!)"
   ]
  },
  {
   "cell_type": "markdown",
   "id": "employed-press",
   "metadata": {},
   "source": [
    "## Questions\n",
    "\n",
    "Question 1: Explain briefly the modeling steps that lead to the SIR model"
   ]
  },
  {
   "cell_type": "markdown",
   "id": "moved-belief",
   "metadata": {},
   "source": [
    "Question 2: Given a population and disease combination for which the SIR model is appropriate, what are the possible outcomes when a trace of infection is introduced into the population? How can you tell whether there will be an epidemic?"
   ]
  },
  {
   "cell_type": "markdown",
   "id": "gothic-commonwealth",
   "metadata": {},
   "source": [
    "Question 3: Does \"epidemic\" mean that almost everyone will get the disease? If so, what keeps the spread of disease going? If not, what causes the epidemic to end before everyone gets sick?"
   ]
  },
  {
   "cell_type": "markdown",
   "id": "interim-serial",
   "metadata": {},
   "source": [
    "Question 4: How can it happen that a large percentage of a population may get sick during an epidemic even though only a small percentage is sick at any one time?"
   ]
  },
  {
   "cell_type": "markdown",
   "id": "headed-reviewer",
   "metadata": {},
   "source": [
    "Question 5: Explain briefly the key idea for finding solutions of an SIR model without finding explicit solution formulas."
   ]
  },
  {
   "cell_type": "markdown",
   "id": "outer-casting",
   "metadata": {},
   "source": [
    "Question 6: Describe briefly the meaning and significance of contact number."
   ]
  },
  {
   "cell_type": "markdown",
   "id": "instant-point",
   "metadata": {},
   "source": [
    "Question 7: Describe briefly the meaning and significance of herd immunity. How can an inoculation program lead to herd immunity?"
   ]
  },
  {
   "cell_type": "markdown",
   "id": "short-tribune",
   "metadata": {},
   "source": [
    "Question 8: The contact number for poliomyelitis in the U.S. in 1955 was 4.9. Explain why we have been able to eradicate this disease even though we cannot eradicate measles. Give a careful argument -- \"smaller contact number\" is an observation, not an explanation."
   ]
  },
  {
   "cell_type": "markdown",
   "id": "configured-grain",
   "metadata": {},
   "source": [
    "#### Answers"
   ]
  },
  {
   "cell_type": "markdown",
   "id": "possible-peace",
   "metadata": {},
   "source": [
    "1: See the background section, but more importantly, how exactly should this be graded? More open-ended or more concrete?  \n",
    "2: Possible Outcomes: epidemic or no epidemic, but also diseases can be endemic vs. non-endemic, depending on the contact number.  \n",
    "3: More or less, it means \"the rapid spread of disease to a large number of people in a given population within a short period of time.\" But to answer the question more fully, the spread of disease goes until people have developed a resistance/immunity to the disease, at which point the disease becomes either endemic (constant, like the flu/measles) or non-endemic, and dies out (e.g. polio.)  \n",
    "4: Essentially, because diseases spread, and it takes time for the disease to infect a host and then others. There is a flu season, and also we have first hand experience with epidemics because of the COVID-19 pandemic.  \n",
    "5: We use the euler method for numerically solving our ODE, as it is difficult to know the parameters of an epidemic a priori.\n",
    "Also, I'm not sure what to use for the ODE and euler method, there are files for a bunch of them on the introduction, but there are also some other options, e.g. a lab going over all the same stuff but using a link for math.studio? I would use matlab, but the above python graph could also work, maybe?\n",
    "\n",
    "6: Contact number: \"it measures the relative contagiousness of the disease, because it tells us indirectly how many of the contacts are close enough to actually spread the disease.\"  \n",
    "7: Herd Immunity: Reducing $s_0$ enough so that no epidemic occurs, $s_0 < 0$ for no epidemic.  \n",
    "8: Might have to look into the actual numbers. I know historically that Salk invented a polio vaccine in the 1950s, so my guess is that we were able to inoculate enough people so that $s_0 < 1/4.9,$ or $s_0 <$ 20.4% of the population. However, with Measles, not only does it have a larger contact number, but I think it occurs mostly in children, especially if they have not been vaccinated. In other words, there is not herd immunity for Measles like there is for Polio. (At least in the US, other places still have these diseases endemically, which is why you might need booster shots when travelling abroad.)\n",
    "\n",
    "I feel like I've more or less done all I can do for now, now I just need to clean up this notebook so it is presentable."
   ]
  },
  {
   "cell_type": "markdown",
   "id": "likely-semester",
   "metadata": {},
   "source": [
    "#### Sources\n",
    "- Smith D. & Moore L. (2004, December)  \n",
    "The SIR Model for Spread of Disease - Introduction. JOMA.  \n",
    "Retrieved May 18, 2021, from https://www.maa.org/press/periodicals/loci/joma/the-sir-model-for-spread-of-disease-introduction \n",
    "\n",
    "- https://scipython.com/book/chapter-8-scipy/additional-examples/the-sir-epidemic-model/"
   ]
  }
 ],
 "metadata": {
  "kernelspec": {
   "display_name": "Python 3",
   "language": "python",
   "name": "python3"
  },
  "language_info": {
   "codemirror_mode": {
    "name": "ipython",
    "version": 3
   },
   "file_extension": ".py",
   "mimetype": "text/x-python",
   "name": "python",
   "nbconvert_exporter": "python",
   "pygments_lexer": "ipython3",
   "version": "3.9.2"
  }
 },
 "nbformat": 4,
 "nbformat_minor": 5
}
